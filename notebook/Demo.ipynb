{
 "cells": [
  {
   "cell_type": "code",
   "execution_count": 1,
   "metadata": {
    "collapsed": true
   },
   "outputs": [],
   "source": [
    "import os\n",
    "import pyspark\n",
    "\n",
    "# make sure pyspark tells workers to use python3 not 2 if both are installed\n",
    "os.environ['PYSPARK_PYTHON'] = '/usr/bin/python'\n",
    "\n",
    "\n",
    "conf = pyspark.SparkConf()\n",
    "conf.setMaster(\"spark://tispark-master:7077\")\n",
    "sc = pyspark.SparkContext(conf=conf)\n",
    "\n",
    "spark = pyspark.sql.SparkSession.builder \\\n",
    "        .master(\"spark://tispark-master:7077\") \\\n",
    "        .appName(\"demo-tispark\") \\\n",
    "        .config(\"spark.tispark.pd.addresses\", \"pd0:2379\") \\\n",
    "        .getOrCreate()"
   ]
  },
  {
   "cell_type": "code",
   "execution_count": 2,
   "metadata": {},
   "outputs": [
    {
     "name": "stdout",
     "output_type": "stream",
     "text": [
      "+--------+\n",
      "|count(1)|\n",
      "+--------+\n",
      "|       1|\n",
      "+--------+\n",
      "\n"
     ]
    }
   ],
   "source": [
    "import pytispark.pytispark as pti\n",
    " \n",
    "ti = pti.TiContext(spark)\n",
    " \n",
    "ti.tidbMapDatabase(\"mysql\")\n",
    " \n",
    "spark.sql(\"select count(*) from user\").show()"
   ]
  },
  {
   "cell_type": "code",
   "execution_count": 3,
   "metadata": {},
   "outputs": [
    {
     "name": "stdout",
     "output_type": "stream",
     "text": [
      "3.1414528\n",
      "CPU times: user 20 ms, sys: 0 ns, total: 20 ms\n",
      "Wall time: 2.13 s\n"
     ]
    }
   ],
   "source": [
    "%%time\n",
    "\n",
    "import random\n",
    "num_samples = 10000000\n",
    "def inside(p):     \n",
    "  x, y = random.random(), random.random()\n",
    "  return x*x + y*y < 1\n",
    "\n",
    "count = sc.range(0, num_samples).filter(inside).count()\n",
    "pi = 4.0 * count / num_samples\n",
    "print(pi)"
   ]
  },
  {
   "cell_type": "code",
   "execution_count": 4,
   "metadata": {},
   "outputs": [
    {
     "name": "stdout",
     "output_type": "stream",
     "text": [
      "3.1419876\n",
      "CPU times: user 3.49 s, sys: 100 ms, total: 3.59 s\n",
      "Wall time: 3.65 s\n"
     ]
    }
   ],
   "source": [
    "%%time\n",
    "\n",
    "import random\n",
    "num_samples = 10000000\n",
    "def inside(p):     \n",
    "  x, y = random.random(), random.random()\n",
    "  return x*x + y*y < 1\n",
    "\n",
    "itr = filter(inside, range(0, num_samples))\n",
    "pi = 4.0 * sum(1 for _ in itr)/num_samples\n",
    "print(pi)"
   ]
  },
  {
   "cell_type": "code",
   "execution_count": 5,
   "metadata": {
    "collapsed": true
   },
   "outputs": [],
   "source": [
    "# sc.stop()"
   ]
  },
  {
   "cell_type": "markdown",
   "metadata": {},
   "source": [
    "### To inject some data into database:\n",
    "\n",
    "In the `tidb-docker-compose` repo, do:\n",
    "```shell\n",
    "$ docker-compose exec tispark-master bash\n",
    "$ cd /opt/spark/data/tispark-sample-data\n",
    "$ mysql -h tidb -P 4000 -u root < dss.ddl\n",
    "\n",
    "```\n",
    "\n",
    "And update some data if you want:\n",
    "\n",
    "```sql\n",
    "UPDATE NATION SET N_COMMENT=\"Some new words here\" WHERE N_NAME=\"CANADA\";\n",
    "```\n",
    "\n",
    "Or check the doc here:\n",
    "https://github.com/pingcap/tidb-docker-compose\n",
    "\n",
    "### Then view them here on spark:"
   ]
  },
  {
   "cell_type": "code",
   "execution_count": 3,
   "metadata": {
    "collapsed": true
   },
   "outputs": [],
   "source": [
    "ti.tidbMapDatabase(\"TPCH_001\")"
   ]
  },
  {
   "cell_type": "code",
   "execution_count": 4,
   "metadata": {},
   "outputs": [
    {
     "name": "stdout",
     "output_type": "stream",
     "text": [
      "+--------+\n",
      "|count(1)|\n",
      "+--------+\n",
      "|   60175|\n",
      "+--------+\n",
      "\n"
     ]
    }
   ],
   "source": [
    "spark.sql(\"select count(*) from lineitem\").show()"
   ]
  },
  {
   "cell_type": "code",
   "execution_count": 79,
   "metadata": {},
   "outputs": [
    {
     "name": "stdout",
     "output_type": "stream",
     "text": [
      "+-----------+------+-----------+-------------------+\n",
      "|n_nationkey|n_name|n_regionkey|          n_comment|\n",
      "+-----------+------+-----------+-------------------+\n",
      "|          3|CANADA|          1|Some new words here|\n",
      "+-----------+------+-----------+-------------------+\n",
      "\n"
     ]
    }
   ],
   "source": [
    "spark.sql(\"select * from nation where n_name == 'CANADA'\").show(30);"
   ]
  },
  {
   "cell_type": "code",
   "execution_count": 39,
   "metadata": {},
   "outputs": [
    {
     "data": {
      "text/html": [
       "<div>\n",
       "<table border=\"1\" class=\"dataframe\">\n",
       "  <thead>\n",
       "    <tr style=\"text-align: right;\">\n",
       "      <th></th>\n",
       "      <th>O_ORDERDATE</th>\n",
       "      <th>L_SHIPDATE</th>\n",
       "      <th>L_SHIPMODE</th>\n",
       "    </tr>\n",
       "  </thead>\n",
       "  <tbody>\n",
       "    <tr>\n",
       "      <th>0</th>\n",
       "      <td>1996-01-02</td>\n",
       "      <td>1996-01-30</td>\n",
       "      <td>MAIL</td>\n",
       "    </tr>\n",
       "    <tr>\n",
       "      <th>1</th>\n",
       "      <td>1996-01-02</td>\n",
       "      <td>1996-03-30</td>\n",
       "      <td>FOB</td>\n",
       "    </tr>\n",
       "    <tr>\n",
       "      <th>2</th>\n",
       "      <td>1996-01-02</td>\n",
       "      <td>1996-04-21</td>\n",
       "      <td>AIR</td>\n",
       "    </tr>\n",
       "    <tr>\n",
       "      <th>3</th>\n",
       "      <td>1996-01-02</td>\n",
       "      <td>1996-01-29</td>\n",
       "      <td>REG AIR</td>\n",
       "    </tr>\n",
       "    <tr>\n",
       "      <th>4</th>\n",
       "      <td>1996-01-02</td>\n",
       "      <td>1996-04-12</td>\n",
       "      <td>MAIL</td>\n",
       "    </tr>\n",
       "    <tr>\n",
       "      <th>5</th>\n",
       "      <td>1996-01-02</td>\n",
       "      <td>1996-03-13</td>\n",
       "      <td>TRUCK</td>\n",
       "    </tr>\n",
       "    <tr>\n",
       "      <th>6</th>\n",
       "      <td>1996-01-02</td>\n",
       "      <td>1996-03-03</td>\n",
       "      <td>TRUCK</td>\n",
       "    </tr>\n",
       "    <tr>\n",
       "      <th>7</th>\n",
       "      <td>1996-01-02</td>\n",
       "      <td>1996-03-20</td>\n",
       "      <td>FOB</td>\n",
       "    </tr>\n",
       "    <tr>\n",
       "      <th>8</th>\n",
       "      <td>1996-01-02</td>\n",
       "      <td>1996-01-08</td>\n",
       "      <td>TRUCK</td>\n",
       "    </tr>\n",
       "    <tr>\n",
       "      <th>9</th>\n",
       "      <td>1996-01-02</td>\n",
       "      <td>1996-05-02</td>\n",
       "      <td>MAIL</td>\n",
       "    </tr>\n",
       "  </tbody>\n",
       "</table>\n",
       "</div>"
      ],
      "text/plain": [
       "  O_ORDERDATE  L_SHIPDATE L_SHIPMODE\n",
       "0  1996-01-02  1996-01-30       MAIL\n",
       "1  1996-01-02  1996-03-30        FOB\n",
       "2  1996-01-02  1996-04-21        AIR\n",
       "3  1996-01-02  1996-01-29    REG AIR\n",
       "4  1996-01-02  1996-04-12       MAIL\n",
       "5  1996-01-02  1996-03-13      TRUCK\n",
       "6  1996-01-02  1996-03-03      TRUCK\n",
       "7  1996-01-02  1996-03-20        FOB\n",
       "8  1996-01-02  1996-01-08      TRUCK\n",
       "9  1996-01-02  1996-05-02       MAIL"
      ]
     },
     "execution_count": 39,
     "metadata": {},
     "output_type": "execute_result"
    }
   ],
   "source": [
    "sql_query = \\\n",
    "\"\"\"\n",
    "select O_ORDERDATE, L_SHIPDATE, L_SHIPMODE from orders \n",
    "  left join lineitem on orders.O_ORDERKEY = lineitem.L_ORDERKEY\n",
    "  where orders.O_ORDERDATE == '1996-01-02'\n",
    "\"\"\"\n",
    "spark.sql(sql_query).toPandas()"
   ]
  },
  {
   "cell_type": "code",
   "execution_count": 78,
   "metadata": {
    "collapsed": true
   },
   "outputs": [],
   "source": [
    "import matplotlib.pyplot as plt"
   ]
  },
  {
   "cell_type": "code",
   "execution_count": 77,
   "metadata": {},
   "outputs": [
    {
     "data": {
      "image/png": "[encoded data removed]",
      "text/plain": [
       "<matplotlib.figure.Figure at 0x7f2dbf289890>"
      ]
     },
     "metadata": {},
     "output_type": "display_data"
    }
   ],
   "source": [
    "sql_query = \\\n",
    "\"\"\"\n",
    "select count(L_SHIPMODE) as c, L_SHIPMODE from lineitem \n",
    "  group by L_SHIPMODE\n",
    "\"\"\"\n",
    "df = spark.sql(sql_query).toPandas()\n",
    "\n",
    "fig, ax = plt.subplots()\n",
    "ax.bar(df.index, df.c)\n",
    "ax.set_xticks(df.index)\n",
    "ax.set_xticklabels(df.L_SHIPMODE)\n",
    "plt.show()"
   ]
  },
  {
   "cell_type": "code",
   "execution_count": 76,
   "metadata": {},
   "outputs": [
    {
     "data": {
      "image/png": "[encoded data removed]",
      "text/plain": [
       "<matplotlib.figure.Figure at 0x7f2dc6083510>"
      ]
     },
     "metadata": {},
     "output_type": "display_data"
    }
   ],
   "source": [
    "sql_query = \\\n",
    "\"\"\"\n",
    "select count(L_SHIPINSTRUCT) as c, L_SHIPINSTRUCT from lineitem \n",
    "  group by L_SHIPINSTRUCT\n",
    "\"\"\"\n",
    "df = spark.sql(sql_query).toPandas()\n",
    "\n",
    "bar_width = 0.5\n",
    "\n",
    "fig, ax = plt.subplots()\n",
    "ax.bar(df.index, df.c, bar_width)\n",
    "ax.set_xticks(df.index)\n",
    "ax.set_xticklabels(df.L_SHIPINSTRUCT)\n",
    "plt.show()"
   ]
  }
 ],
 "metadata": {
  "kernelspec": {
   "display_name": "Python 2",
   "language": "python",
   "name": "python2"
  },
  "language_info": {
   "codemirror_mode": {
    "name": "ipython",
    "version": 2
   },
   "file_extension": ".py",
   "mimetype": "text/x-python",
   "name": "python",
   "nbconvert_exporter": "python",
   "pygments_lexer": "ipython2",
   "version": "2.7.13"
  }
 },
 "nbformat": 4,
 "nbformat_minor": 2
}
